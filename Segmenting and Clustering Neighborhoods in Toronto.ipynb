{
    "nbformat_minor": 1, 
    "cells": [
        {
            "execution_count": 2, 
            "cell_type": "code", 
            "metadata": {}, 
            "outputs": [
                {
                    "output_type": "stream", 
                    "name": "stdout", 
                    "text": "                   Borough                                      Neighbourhood\nPostcode                                                                     \nM1B            Scarborough                                     Rouge, Malvern\nM1C            Scarborough             Highland Creek, Rouge Hill, Port Union\nM1E            Scarborough                  Guildwood, Morningside, West Hill\nM1G            Scarborough                                             Woburn\nM1H            Scarborough                                          Cedarbrae\nM1J            Scarborough                                Scarborough Village\nM1K            Scarborough        East Birchmount Park, Ionview, Kennedy Park\nM1L            Scarborough                    Clairlea, Golden Mile, Oakridge\nM1M            Scarborough    Cliffcrest, Cliffside, Scarborough Village West\nM1N            Scarborough                        Birch Cliff, Cliffside West\nM1P            Scarborough  Dorset Park, Scarborough Town Centre, Wexford ...\nM1R            Scarborough                                  Maryvale, Wexford\nM1S            Scarborough                                          Agincourt\nM1T            Scarborough            Clarks Corners, Sullivan, Tam O'Shanter\nM1V            Scarborough  Agincourt North, L'Amoreaux East, Milliken, St...\nM1W            Scarborough                      L'Amoreaux West, Steeles West\nM1X            Scarborough                                        Upper Rouge\nM2H             North York                                  Hillcrest Village\nM2J             North York                       Fairview, Henry Farm, Oriole\nM2K             North York                                    Bayview Village\nM2L             North York                           Silver Hills, York Mills\nM2M             North York                            Newtonbrook, Willowdale\nM2N             North York                                   Willowdale South\nM2P             North York                                    York Mills West\nM2R             North York                                    Willowdale West\nM3A             North York                                          Parkwoods\nM3B             North York                                    Don Mills North\nM3C             North York                   Flemingdon Park, Don Mills South\nM3H             North York    Bathurst Manor, Downsview North, Wilson Heights\nM3J             North York                    Northwood Park, York University\n...                    ...                                                ...\nM6C                   York                                 Humewood-Cedarvale\nM6E                   York                                Caledonia-Fairbanks\nM6G       Downtown Toronto                                           Christie\nM6H           West Toronto                       Dovercourt Village, Dufferin\nM6J           West Toronto                           Little Portugal, Trinity\nM6K           West Toronto       Brockton, Exhibition Place, Parkdale Village\nM6L             North York           Maple Leaf Park, North Park, Upwood Park\nM6M                   York     Del Ray, Keelesdale, Mount Dennis, Silverthorn\nM6N                   York                      The Junction North, Runnymede\nM6P           West Toronto                      High Park, The Junction South\nM6R           West Toronto                             Parkdale, Roncesvalles\nM6S           West Toronto                                 Runnymede, Swansea\nM7A           Queen's Park                                       Queen's Park\nM7R            Mississauga              Canada Post Gateway Processing Centre\nM7Y           East Toronto  Business Reply Mail Processing Centre 969 Eastern\nM8V              Etobicoke       Humber Bay Shores, Mimico South, New Toronto\nM8W              Etobicoke                             Alderwood, Long Branch\nM8X              Etobicoke      The Kingsway, Montgomery Road, Old Mill North\nM8Y              Etobicoke  Humber Bay, King's Mill Park, Kingsway Park So...\nM8Z              Etobicoke  Kingsway Park South West, Mimico NW, The Queen...\nM9A              Etobicoke                                   Islington Avenue\nM9B              Etobicoke  Cloverdale, Islington, Martin Grove, Princess ...\nM9C              Etobicoke  Bloordale Gardens, Eringate, Markland Wood, Ol...\nM9L             North York                                      Humber Summit\nM9M             North York                                   Emery, Humberlea\nM9N                   York                                             Weston\nM9P              Etobicoke                                          Westmount\nM9R              Etobicoke  Kingsview Village, Martin Grove Gardens, Richv...\nM9V              Etobicoke  Albion Gardens, Beaumond Heights, Humbergate, ...\nM9W              Etobicoke                                          Northwest\n\n[103 rows x 2 columns]\n"
                }, 
                {
                    "output_type": "stream", 
                    "name": "stderr", 
                    "text": "/opt/conda/envs/DSX-Python35/lib/python3.5/site-packages/bs4/__init__.py:181: UserWarning: No parser was explicitly specified, so I'm using the best available HTML parser for this system (\"lxml\"). This usually isn't a problem, but if you run this code on another system, or in a different virtual environment, it may use a different parser and behave differently.\n\nThe code that caused this warning is on line 193 of the file /opt/conda/envs/DSX-Python35/lib/python3.5/runpy.py. To get rid of this warning, change code that looks like this:\n\n BeautifulSoup(YOUR_MARKUP})\n\nto this:\n\n BeautifulSoup(YOUR_MARKUP, \"lxml\")\n\n  markup_type=markup_type))\n"
                }, 
                {
                    "execution_count": 2, 
                    "metadata": {}, 
                    "data": {
                        "text/plain": "(103, 2)"
                    }, 
                    "output_type": "execute_result"
                }
            ], 
            "source": "from bs4 import BeautifulSoup\nimport requests\nimport pandas as pd\n\nr  = requests.get(\"https://en.wikipedia.org/wiki/List_of_postal_codes_of_Canada:_M\")\ndata = r.text\n\nsoup = BeautifulSoup(data)\n\ntable = soup.find_all('table')[0]\n\ndf = pd.read_html(str(table), header=0)[0]\n\ndf = df[df['Borough'] != \"Not assigned\"]\n\ndf.loc[df['Neighbourhood'] == \"Not assigned\",'Neighbourhood'] = df['Borough']\n\ndf2 =  pd.DataFrame(df.groupby(['Postcode'],as_index=True)['Neighbourhood'].apply(lambda x: \"%s\" % ', '.join(x)))\ndf.set_index('Postcode', inplace=True,)\n\ndf.drop(columns=['Neighbourhood'], inplace=True)\n\ndf3 = df2.join(df, how='outer')\n\ndf3.drop_duplicates(inplace=True)\ndf = df3[['Borough','Neighbourhood']]\nprint(df)\n\ndf.shape"
        }, 
        {
            "execution_count": null, 
            "cell_type": "code", 
            "metadata": {}, 
            "outputs": [], 
            "source": ""
        }
    ], 
    "metadata": {
        "kernelspec": {
            "display_name": "Python 3.5", 
            "name": "python3", 
            "language": "python"
        }, 
        "language_info": {
            "mimetype": "text/x-python", 
            "nbconvert_exporter": "python", 
            "version": "3.5.5", 
            "name": "python", 
            "file_extension": ".py", 
            "pygments_lexer": "ipython3", 
            "codemirror_mode": {
                "version": 3, 
                "name": "ipython"
            }
        }
    }, 
    "nbformat": 4
}